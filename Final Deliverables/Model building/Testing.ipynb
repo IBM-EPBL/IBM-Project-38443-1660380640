{
 "cells": [
  {
   "cell_type": "code",
   "execution_count": 2,
   "id": "7544e803",
   "metadata": {},
   "outputs": [],
   "source": [
    "from tensorflow.keras.preprocessing.image import ImageDataGenerator\n",
    "train_datagen=ImageDataGenerator(rescale=1./255,shear_range=0.2,zoom_range=0.2,horizontal_flip=True)\n",
    "test_datagen=ImageDataGenerator(rescale=1./255)"
   ]
  },
  {
   "cell_type": "code",
   "execution_count": 3,
   "id": "e66c4800",
   "metadata": {},
   "outputs": [
    {
     "name": "stdout",
     "output_type": "stream",
     "text": [
      "Found 594 images belonging to 6 classes.\n",
      "Found 30 images belonging to 6 classes.\n"
     ]
    }
   ],
   "source": [
    "x_train= train_datagen.flow_from_directory(r\"C:\\Users\\ELCOT\\Desktop\\project\\Dataset\\train\",target_size=(64,64),batch_size=5,color_mode='grayscale',class_mode='categorical')\n",
    "x_test= test_datagen.flow_from_directory(r\"C:\\Users\\ELCOT\\Desktop\\project\\Dataset\\test\",target_size=(64,64),batch_size=5,color_mode='grayscale',class_mode='categorical')"
   ]
  },
  {
   "cell_type": "code",
   "execution_count": 4,
   "id": "022b9d37",
   "metadata": {},
   "outputs": [],
   "source": [
    "import numpy as np\n",
    "import tensorflow\n",
    "from tensorflow.keras.models import Sequential\n",
    "from tensorflow.keras import layers\n",
    "from tensorflow.keras.layers import Dense,Flatten\n",
    "from tensorflow.keras.layers import Conv2D,MaxPooling2D\n",
    "from keras.preprocessing.image import ImageDataGenerator\n",
    "model=Sequential()"
   ]
  },
  {
   "cell_type": "code",
   "execution_count": 5,
   "id": "2c2358b7",
   "metadata": {},
   "outputs": [],
   "source": [
    "model.add(Conv2D(32,(3,3),input_shape=(64,64,1),activation=\"relu\"))\n",
    "model.add(MaxPooling2D(pool_size=(2,2)))\n",
    "model.add(Conv2D(32,(3,3),activation=\"relu\"))\n",
    "model.add(MaxPooling2D(pool_size=(2,2)))\n",
    "model.add(Flatten())\n",
    "model.add(Dense(units=512,activation=\"relu\"))\n",
    "model.add(Dense(units=512,activation=\"relu\"))\n",
    "model.add(Dense(units=6,activation=\"softmax\"))"
   ]
  },
  {
   "cell_type": "code",
   "execution_count": 6,
   "id": "b66863da",
   "metadata": {},
   "outputs": [
    {
     "name": "stdout",
     "output_type": "stream",
     "text": [
      "Model: \"sequential\"\n",
      "_________________________________________________________________\n",
      " Layer (type)                Output Shape              Param #   \n",
      "=================================================================\n",
      " conv2d (Conv2D)             (None, 62, 62, 32)        320       \n",
      "                                                                 \n",
      " max_pooling2d (MaxPooling2D  (None, 31, 31, 32)       0         \n",
      " )                                                               \n",
      "                                                                 \n",
      " conv2d_1 (Conv2D)           (None, 29, 29, 32)        9248      \n",
      "                                                                 \n",
      " max_pooling2d_1 (MaxPooling  (None, 14, 14, 32)       0         \n",
      " 2D)                                                             \n",
      "                                                                 \n",
      " flatten (Flatten)           (None, 6272)              0         \n",
      "                                                                 \n",
      " dense (Dense)               (None, 512)               3211776   \n",
      "                                                                 \n",
      " dense_1 (Dense)             (None, 512)               262656    \n",
      "                                                                 \n",
      " dense_2 (Dense)             (None, 6)                 3078      \n",
      "                                                                 \n",
      "=================================================================\n",
      "Total params: 3,487,078\n",
      "Trainable params: 3,487,078\n",
      "Non-trainable params: 0\n",
      "_________________________________________________________________\n"
     ]
    }
   ],
   "source": [
    "model.summary()"
   ]
  },
  {
   "cell_type": "code",
   "execution_count": 7,
   "id": "4308e4c7",
   "metadata": {},
   "outputs": [],
   "source": [
    "model.compile(loss=\"categorical_crossentropy\",optimizer=\"adam\",metrics=['accuracy'])"
   ]
  },
  {
   "cell_type": "code",
   "execution_count": 8,
   "id": "715221cb",
   "metadata": {},
   "outputs": [
    {
     "name": "stderr",
     "output_type": "stream",
     "text": [
      "C:\\Users\\ELCOT\\AppData\\Local\\Temp/ipykernel_10428/4165302777.py:1: UserWarning: `Model.fit_generator` is deprecated and will be removed in a future version. Please use `Model.fit`, which supports generators.\n",
      "  model.fit_generator(x_train,steps_per_epoch=len(x_train),epochs=10,validation_data=x_test,validation_steps=30/3)\n"
     ]
    },
    {
     "name": "stdout",
     "output_type": "stream",
     "text": [
      "Epoch 1/10\n",
      "119/119 [==============================] - ETA: 0s - loss: 1.3574 - accuracy: 0.4343WARNING:tensorflow:Your input ran out of data; interrupting training. Make sure that your dataset or generator can generate at least `steps_per_epoch * epochs` batches (in this case, 10.0 batches). You may need to use the repeat() function when building your dataset.\n",
      "119/119 [==============================] - 38s 262ms/step - loss: 1.3574 - accuracy: 0.4343 - val_loss: 0.7669 - val_accuracy: 0.6667\n",
      "Epoch 2/10\n",
      "119/119 [==============================] - 23s 194ms/step - loss: 0.5897 - accuracy: 0.7660\n",
      "Epoch 3/10\n",
      "119/119 [==============================] - 25s 209ms/step - loss: 0.3480 - accuracy: 0.8737\n",
      "Epoch 4/10\n",
      "119/119 [==============================] - 23s 190ms/step - loss: 0.3022 - accuracy: 0.8855\n",
      "Epoch 5/10\n",
      "119/119 [==============================] - 24s 200ms/step - loss: 0.2688 - accuracy: 0.9007\n",
      "Epoch 6/10\n",
      "119/119 [==============================] - 24s 203ms/step - loss: 0.1780 - accuracy: 0.9327\n",
      "Epoch 7/10\n",
      "119/119 [==============================] - 26s 217ms/step - loss: 0.1911 - accuracy: 0.9293\n",
      "Epoch 8/10\n",
      "119/119 [==============================] - 22s 187ms/step - loss: 0.1156 - accuracy: 0.9529\n",
      "Epoch 9/10\n",
      "119/119 [==============================] - 22s 184ms/step - loss: 0.1126 - accuracy: 0.9646\n",
      "Epoch 10/10\n",
      "119/119 [==============================] - 22s 183ms/step - loss: 0.0808 - accuracy: 0.9680\n"
     ]
    },
    {
     "data": {
      "text/plain": [
       "<keras.callbacks.History at 0x19ebe09ae80>"
      ]
     },
     "execution_count": 8,
     "metadata": {},
     "output_type": "execute_result"
    }
   ],
   "source": [
    "model.fit_generator(x_train,steps_per_epoch=len(x_train),epochs=10,validation_data=x_test,validation_steps=30/3)"
   ]
  },
  {
   "cell_type": "code",
   "execution_count": 9,
   "id": "40af9669",
   "metadata": {},
   "outputs": [],
   "source": [
    "model.save('gestures.h5')"
   ]
  },
  {
   "cell_type": "code",
   "execution_count": 10,
   "id": "a739c853",
   "metadata": {},
   "outputs": [],
   "source": [
    "model_json=model.to_json()\n",
    "with open(\"model-bw.json\",\"w\")as json_file:\n",
    "  json_file.write(model_json)"
   ]
  },
  {
   "cell_type": "code",
   "execution_count": 48,
   "id": "c90affd3",
   "metadata": {},
   "outputs": [
    {
     "data": {
      "image/png": "[encoded data removed]",
      "text/plain": [
       "<Figure size 432x288 with 1 Axes>"
      ]
     },
     "metadata": {
      "needs_background": "light"
     },
     "output_type": "display_data"
    }
   ],
   "source": [
    "from tensorflow.keras.models import load_model\n",
    "from tensorflow.keras.preprocessing import image\n",
    "model=load_model(\"gestures.h5\")\n",
    "path=\"C:\\\\Users\\\\ELCOT\\\\Desktop\\\\project\\\\Dataset\\\\test\\\\4\\\\2.jpg\"\n",
    "import matplotlib.pyplot as plt\n",
    "import matplotlib.image as mpimg\n",
    "imgs=mpimg.imread(path)\n",
    "imgplot=plt.imshow(imgs)\n",
    "plt.show()"
   ]
  },
  {
   "cell_type": "code",
   "execution_count": 50,
   "id": "b0189f27",
   "metadata": {},
   "outputs": [
    {
     "name": "stdout",
     "output_type": "stream",
     "text": [
      "1/1 [==============================] - 1s 616ms/step\n"
     ]
    },
    {
     "data": {
      "text/plain": [
       "'4'"
      ]
     },
     "execution_count": 50,
     "metadata": {},
     "output_type": "execute_result"
    }
   ],
   "source": [
    "img=image.load_img(path,color_mode=\"grayscale\",target_size=(64,64))\n",
    "x=image.img_to_array(img)\n",
    "x=np.expand_dims(x,axis=0)\n",
    "pred=model.predict(x)\n",
    "pred\n",
    "index=['0','1','2','3','4','5']\n",
    "result=index[np.argmax(pred)]\n",
    "result"
   ]
  },
  {
   "cell_type": "code",
   "execution_count": 53,
   "id": "f1594c69",
   "metadata": {},
   "outputs": [
    {
     "name": "stdout",
     "output_type": "stream",
     "text": [
      "1/1 [==============================] - 0s 219ms/step\n",
      "1/1 [==============================] - 0s 202ms/step\n",
      "1/1 [==============================] - 0s 239ms/step\n",
      "1/1 [==============================] - 0s 125ms/step\n",
      "1/1 [==============================] - 0s 126ms/step\n",
      "1/1 [==============================] - 0s 114ms/step\n",
      "1/1 [==============================] - 0s 117ms/step\n",
      "1/1 [==============================] - 0s 117ms/step\n",
      "1/1 [==============================] - 0s 127ms/step\n",
      "1/1 [==============================] - 0s 113ms/step\n",
      "1/1 [==============================] - 0s 80ms/step\n",
      "1/1 [==============================] - 0s 128ms/step\n",
      "1/1 [==============================] - 0s 81ms/step\n",
      "1/1 [==============================] - 0s 115ms/step\n",
      "1/1 [==============================] - 0s 79ms/step\n",
      "1/1 [==============================] - 0s 76ms/step\n",
      "1/1 [==============================] - 0s 94ms/step\n",
      "1/1 [==============================] - 0s 75ms/step\n",
      "1/1 [==============================] - 0s 80ms/step\n",
      "1/1 [==============================] - 0s 106ms/step\n",
      "1/1 [==============================] - 0s 97ms/step\n",
      "1/1 [==============================] - 0s 156ms/step\n",
      "1/1 [==============================] - 0s 105ms/step\n",
      "1/1 [==============================] - 0s 121ms/step\n",
      "1/1 [==============================] - 0s 146ms/step\n",
      "1/1 [==============================] - 0s 84ms/step\n",
      "1/1 [==============================] - 0s 77ms/step\n",
      "1/1 [==============================] - 0s 78ms/step\n",
      "1/1 [==============================] - 0s 79ms/step\n",
      "1/1 [==============================] - 0s 93ms/step\n",
      "[array([0], dtype=int64), array([0], dtype=int64), array([0], dtype=int64), array([0], dtype=int64), array([0], dtype=int64), array([1], dtype=int64), array([1], dtype=int64), array([1], dtype=int64), array([1], dtype=int64), array([1], dtype=int64), array([2], dtype=int64), array([2], dtype=int64), array([1], dtype=int64), array([2], dtype=int64), array([2], dtype=int64), array([3], dtype=int64), array([3], dtype=int64), array([3], dtype=int64), array([3], dtype=int64), array([3], dtype=int64), array([4], dtype=int64), array([4], dtype=int64), array([4], dtype=int64), array([4], dtype=int64), array([4], dtype=int64), array([5], dtype=int64), array([5], dtype=int64), array([5], dtype=int64), array([5], dtype=int64), array([5], dtype=int64)]\n"
     ]
    }
   ],
   "source": [
    "import numpy as np\n",
    "p=[]\n",
    "for i in range(0,6):\n",
    "    for j in range(0,5):\n",
    "        path=\"C:\\\\Users\\\\ELCOT\\\\Desktop\\\\project\\\\Dataset\\\\test\\\\\"+str(i)+\"\\\\\"+str(j)+\".jpg\"\n",
    "        img=image.load_img(path,color_mode=\"grayscale\",target_size=(64,64))\n",
    "        x=image.img_to_array(img)\n",
    "        x=np.expand_dims(x,axis=0)\n",
    "        pred=np.argmax(model.predict(x),axis=-1)\n",
    "        p.append(pred)\n",
    "print(p)"
   ]
  },
  {
   "cell_type": "code",
   "execution_count": null,
   "id": "7e381a67",
   "metadata": {},
   "outputs": [],
   "source": []
  }
 ],
 "metadata": {
  "kernelspec": {
   "display_name": "Python 3.8.0 64-bit",
   "language": "python",
   "name": "python3"
  },
  "language_info": {
   "codemirror_mode": {
    "name": "ipython",
    "version": 3
   },
   "file_extension": ".py",
   "mimetype": "text/x-python",
   "name": "python",
   "nbconvert_exporter": "python",
   "pygments_lexer": "ipython3",
   "version": "3.8.0"
  },
  "vscode": {
   "interpreter": {
    "hash": "cf88d4769840d2dcbc9e2e9c4d5fb8c4915b0c03f9524074d693675d67e52181"
   }
  }
 },
 "nbformat": 4,
 "nbformat_minor": 5
}
